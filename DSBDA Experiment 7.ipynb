{
 "cells": [
  {
   "cell_type": "code",
   "execution_count": 2,
   "id": "e6538eea",
   "metadata": {},
   "outputs": [
    {
     "name": "stdout",
     "output_type": "stream",
     "text": [
      "Note: you may need to restart the kernel to use updated packages.Requirement already satisfied: nltk in c:\\users\\bhale\\downloads\\anaconda\\lib\\site-packages (3.6.1)\n",
      "Requirement already satisfied: click in c:\\users\\bhale\\downloads\\anaconda\\lib\\site-packages (from nltk) (7.1.2)\n",
      "Requirement already satisfied: joblib in c:\\users\\bhale\\downloads\\anaconda\\lib\\site-packages (from nltk) (1.0.1)\n",
      "Requirement already satisfied: regex in c:\\users\\bhale\\downloads\\anaconda\\lib\\site-packages (from nltk) (2021.4.4)\n",
      "Requirement already satisfied: tqdm in c:\\users\\bhale\\downloads\\anaconda\\lib\\site-packages (from nltk) (4.59.0)\n",
      "\n"
     ]
    },
    {
     "name": "stderr",
     "output_type": "stream",
     "text": [
      "WARNING: Ignoring invalid distribution -rotobuf (c:\\users\\bhale\\downloads\\anaconda\\lib\\site-packages)\n",
      "WARNING: Ignoring invalid distribution -ygments (c:\\users\\bhale\\downloads\\anaconda\\lib\\site-packages)\n",
      "WARNING: Ignoring invalid distribution -rotobuf (c:\\users\\bhale\\downloads\\anaconda\\lib\\site-packages)\n",
      "WARNING: Ignoring invalid distribution -ygments (c:\\users\\bhale\\downloads\\anaconda\\lib\\site-packages)\n"
     ]
    }
   ],
   "source": [
    "pip install nltk"
   ]
  },
  {
   "cell_type": "code",
   "execution_count": 4,
   "id": "576faff0",
   "metadata": {},
   "outputs": [
    {
     "name": "stderr",
     "output_type": "stream",
     "text": [
      "[nltk_data] Downloading package punkt to\n",
      "[nltk_data]     C:\\Users\\bhale\\AppData\\Roaming\\nltk_data...\n",
      "[nltk_data]   Package punkt is already up-to-date!\n"
     ]
    },
    {
     "data": {
      "text/plain": [
       "True"
      ]
     },
     "execution_count": 4,
     "metadata": {},
     "output_type": "execute_result"
    }
   ],
   "source": [
    "import nltk\n",
    "nltk.download('punkt')"
   ]
  },
  {
   "cell_type": "code",
   "execution_count": 14,
   "id": "aaaa0afe",
   "metadata": {},
   "outputs": [
    {
     "name": "stdout",
     "output_type": "stream",
     "text": [
      "[' Tokenization is the first step in text analytics.', 'The process of breaking down a text paragraph into\\nsmaller chunks such as words or sentence is called Tokenization.', 'Token is a single entity that is\\nbuilding blocks for sentence or paragraph']\n"
     ]
    }
   ],
   "source": [
    "#Tokenization\n",
    "from nltk.tokenize import sent_tokenize\n",
    "\n",
    "text=\"\"\" Tokenization is the first step in text analytics. The process of breaking down a text paragraph into\n",
    "smaller chunks such as words or sentence is called Tokenization. Token is a single entity that is\n",
    "building blocks for sentence or paragraph\"\"\"\n",
    "tokenized_text=sent_tokenize(text)\n",
    "print(tokenized_text)"
   ]
  },
  {
   "cell_type": "code",
   "execution_count": 18,
   "id": "b9ff8d1a",
   "metadata": {},
   "outputs": [
    {
     "name": "stdout",
     "output_type": "stream",
     "text": [
      "['Tokenization', 'is', 'the', 'first', 'step', 'in', 'text', 'analytics', '.', 'The', 'process', 'of', 'breaking', 'down', 'a', 'text', 'paragraph', 'into', 'smaller', 'chunks', 'such', 'as', 'words', 'or', 'sentence', 'is', 'called', 'Tokenization', '.', 'Token', 'is', 'a', 'single', 'entity', 'that', 'is', 'building', 'blocks', 'for', 'sentence', 'or', 'paragraph']\n"
     ]
    }
   ],
   "source": [
    "from nltk.tokenize import word_tokenize\n",
    "tokenized_word=word_tokenize(text)\n",
    "\n",
    "print(tokenized_word)"
   ]
  },
  {
   "cell_type": "code",
   "execution_count": 22,
   "id": "a3180684",
   "metadata": {},
   "outputs": [
    {
     "name": "stdout",
     "output_type": "stream",
     "text": [
      "<FreqDist with 32 samples and 42 outcomes>\n"
     ]
    },
    {
     "data": {
      "text/plain": [
       "[('is', 4), ('Tokenization', 2)]"
      ]
     },
     "execution_count": 22,
     "metadata": {},
     "output_type": "execute_result"
    }
   ],
   "source": [
    "from nltk.probability import FreqDist\n",
    "fdist = FreqDist(tokenized_word)\n",
    "print(fdist)\n",
    "\n",
    "fdist.most_common(2)"
   ]
  },
  {
   "cell_type": "code",
   "execution_count": 21,
   "id": "7ea69bda",
   "metadata": {},
   "outputs": [
    {
     "data": {
      "image/png": "[encoded data removed]",
      "text/plain": [
       "<Figure size 432x288 with 1 Axes>"
      ]
     },
     "metadata": {
      "needs_background": "light"
     },
     "output_type": "display_data"
    }
   ],
   "source": [
    "import matplotlib.pyplot as plt\n",
    "fdist.plot(30,cumulative=False)\n",
    "plt.show()"
   ]
  },
  {
   "cell_type": "code",
   "execution_count": 24,
   "id": "361c0b0d",
   "metadata": {},
   "outputs": [
    {
     "name": "stdout",
     "output_type": "stream",
     "text": [
      "['Pratiksha', 'is', 'Studying', 'in', 'AVCOE', 'for', 'TE', 'Comp']\n",
      "Pratiksha NNP\n",
      "is VBZ\n",
      "Studying VBG\n",
      "in IN\n",
      "AVCOE NNP\n",
      "for IN\n",
      "TE NNP\n",
      "Comp NNP\n"
     ]
    }
   ],
   "source": [
    "#POS Tagging\n",
    "sent=\"Pratiksha is Studying in AVCOE for TE Comp\"\n",
    "tokens=nltk.word_tokenize(sent)\n",
    "print(tokens)\n",
    "tagged_words=nltk.pos_tag(tokens)\n",
    "for word,tag in tagged_words:\n",
    "    print(word,tag)"
   ]
  },
  {
   "cell_type": "code",
   "execution_count": 25,
   "id": "f7817362",
   "metadata": {},
   "outputs": [
    {
     "name": "stderr",
     "output_type": "stream",
     "text": [
      "[nltk_data] Downloading package averaged_perceptron_tagger to\n",
      "[nltk_data]     C:\\Users\\bhale\\AppData\\Roaming\\nltk_data...\n",
      "[nltk_data]   Package averaged_perceptron_tagger is already up-to-\n",
      "[nltk_data]       date!\n"
     ]
    },
    {
     "data": {
      "text/plain": [
       "[('Pratiksha', 'NNP'),\n",
       " ('is', 'VBZ'),\n",
       " ('Studying', 'VBG'),\n",
       " ('in', 'IN'),\n",
       " ('AVCOE', 'NNP'),\n",
       " ('for', 'IN'),\n",
       " ('TE', 'NNP'),\n",
       " ('Comp', 'NNP')]"
      ]
     },
     "execution_count": 25,
     "metadata": {},
     "output_type": "execute_result"
    }
   ],
   "source": [
    "nltk.download('averaged_perceptron_tagger')\n",
    "nltk.pos_tag(tokens)"
   ]
  },
  {
   "cell_type": "code",
   "execution_count": 26,
   "id": "a674dd8b",
   "metadata": {},
   "outputs": [
    {
     "name": "stdout",
     "output_type": "stream",
     "text": [
      "{'but', \"aren't\", 'll', 't', 'is', 'there', 'can', 'his', 'own', 'was', 'hadn', 'each', 'you', 'yours', 'our', 'theirs', 're', 'm', 'out', \"hasn't\", 'hasn', \"hadn't\", 'doing', 'why', 'that', 'these', \"shan't\", 'shouldn', 'this', 'does', 'against', 'further', \"mightn't\", 'will', 'on', \"you've\", 'just', 'too', 'wasn', 'had', 'do', 'as', \"isn't\", 'some', 'they', 'after', 'off', \"should've\", 'once', 'the', 'he', 'now', 'into', 'or', 'not', 'weren', 'again', \"don't\", 'should', 'didn', 'isn', 'an', 'if', 'd', \"you're\", 'don', 'and', 'under', 'mightn', 'which', 'because', 'very', 'were', 'ma', 'so', 'before', 'over', 'where', 've', 'yourself', 'been', 'more', 'nor', \"it's\", 'has', 'shan', \"that'll\", 'it', 'down', 'mustn', 'ourselves', \"you'll\", 'are', 'its', 'who', 'won', 'haven', 'myself', \"weren't\", 'both', \"mustn't\", 'from', 'here', 'i', 'doesn', 'o', 'until', 'between', 'then', 'we', \"couldn't\", \"shouldn't\", 'himself', 'hers', \"won't\", 'themselves', 'y', 'wouldn', 'in', 'their', 'when', \"she's\", 'being', 'she', 'during', \"haven't\", \"doesn't\", 'have', 'itself', 'other', 'no', 'than', 'ain', 'how', 'a', 'those', 'did', 'for', 'all', 'am', 'having', 'below', 'to', 'your', 'them', \"wasn't\", 'up', \"needn't\", 'above', \"didn't\", 'of', 'whom', 'my', 'while', 'her', 'what', 'yourselves', 'same', \"wouldn't\", 'me', 'be', 'at', 'most', \"you'd\", 'him', 'through', 'only', 'ours', 'needn', 's', 'with', 'about', 'any', 'aren', 'such', 'by', 'few', 'couldn', 'herself'}\n"
     ]
    }
   ],
   "source": [
    "#Stopwords\n",
    "from nltk.corpus import stopwords\n",
    "stop_words=set(stopwords.words(\"english\"))\n",
    "print(stop_words)"
   ]
  },
  {
   "cell_type": "code",
   "execution_count": 30,
   "id": "bdd82e9a",
   "metadata": {},
   "outputs": [
    {
     "name": "stdout",
     "output_type": "stream",
     "text": [
      "tokenized sentence: ['Pratiksha', 'is', 'Studying', 'in', 'AVCOE', 'for', 'TE', 'Comp']\n",
      "Filtered Sentence ['Pratiksha', 'Studying', 'AVCOE', 'TE', 'Comp']\n"
     ]
    }
   ],
   "source": [
    "#removing Stop words\n",
    "\n",
    "filtered_sent=[]\n",
    "for w in tokens:\n",
    "    if w not in stop_words:\n",
    "        filtered_sent.append(w)\n",
    "print(\"tokenized sentence:\",tokens)\n",
    "\n",
    "print(\"Filtered Sentence\",filtered_sent)"
   ]
  },
  {
   "cell_type": "code",
   "execution_count": 33,
   "id": "da73a8ed",
   "metadata": {},
   "outputs": [
    {
     "name": "stdout",
     "output_type": "stream",
     "text": [
      "Filtered Sentence ['Pratiksha', 'Studying', 'AVCOE', 'TE', 'Comp']\n",
      "Stemmed Sentence: ['pratiksha', 'studi', 'avco', 'te', 'comp']\n"
     ]
    }
   ],
   "source": [
    "#Stemming\n",
    "from nltk.stem import PorterStemmer\n",
    "from nltk.tokenize import sent_tokenize,word_tokenize\n",
    "ps=PorterStemmer()\n",
    "stemmed_words=[]\n",
    "for w in filtered_sent:\n",
    "    stemmed_words.append(ps.stem(w))\n",
    "print('Filtered Sentence',filtered_sent)\n",
    "print('Stemmed Sentence:',stemmed_words)"
   ]
  },
  {
   "cell_type": "code",
   "execution_count": 40,
   "id": "060f6935",
   "metadata": {},
   "outputs": [
    {
     "name": "stdout",
     "output_type": "stream",
     "text": [
      "Lemmatized Word: enjoy\n",
      "Stemmed Word: enjoy\n"
     ]
    }
   ],
   "source": [
    "from nltk.stem.wordnet import WordNetLemmatizer\n",
    "lem = WordNetLemmatizer()\n",
    "from nltk.stem.porter import PorterStemmer\n",
    "stem = PorterStemmer()\n",
    "word = \"enjoying\"\n",
    "print(\"Lemmatized Word:\",lem.lemmatize(word,\"v\")) \n",
    "print(\"Stemmed Word:\",stem.stem(word))"
   ]
  },
  {
   "cell_type": "code",
   "execution_count": 43,
   "id": "8038af61",
   "metadata": {},
   "outputs": [
    {
     "name": "stdout",
     "output_type": "stream",
     "text": [
      "{'key', '21st', 'Data', 'for', 'data', 'learning', 'of', 'job', 'is', 'century', 'Science', 'machine', 'sexiest', 'the', 'science'}\n"
     ]
    }
   ],
   "source": [
    "first_sentence = \"Data Science is the sexiest job of the 21st century\"\n",
    "second_sentence = \"machine learning is the key for data science\"\n",
    "first_sentence= first_sentence.split(\" \")\n",
    "second_sentence = second_sentence.split(\" \")\n",
    "#join them to remove common duplicate words\n",
    "total=set(first_sentence).union(set(second_sentence))\n",
    "print(total)"
   ]
  },
  {
   "cell_type": "code",
   "execution_count": 46,
   "id": "31420f3e",
   "metadata": {},
   "outputs": [
    {
     "data": {
      "text/html": [
       "<div>\n",
       "<style scoped>\n",
       "    .dataframe tbody tr th:only-of-type {\n",
       "        vertical-align: middle;\n",
       "    }\n",
       "\n",
       "    .dataframe tbody tr th {\n",
       "        vertical-align: top;\n",
       "    }\n",
       "\n",
       "    .dataframe thead th {\n",
       "        text-align: right;\n",
       "    }\n",
       "</style>\n",
       "<table border=\"1\" class=\"dataframe\">\n",
       "  <thead>\n",
       "    <tr style=\"text-align: right;\">\n",
       "      <th></th>\n",
       "      <th>key</th>\n",
       "      <th>21st</th>\n",
       "      <th>Data</th>\n",
       "      <th>for</th>\n",
       "      <th>data</th>\n",
       "      <th>learning</th>\n",
       "      <th>of</th>\n",
       "      <th>job</th>\n",
       "      <th>is</th>\n",
       "      <th>century</th>\n",
       "      <th>Science</th>\n",
       "      <th>machine</th>\n",
       "      <th>sexiest</th>\n",
       "      <th>the</th>\n",
       "      <th>science</th>\n",
       "    </tr>\n",
       "  </thead>\n",
       "  <tbody>\n",
       "    <tr>\n",
       "      <th>0</th>\n",
       "      <td>0</td>\n",
       "      <td>1</td>\n",
       "      <td>1</td>\n",
       "      <td>0</td>\n",
       "      <td>0</td>\n",
       "      <td>0</td>\n",
       "      <td>1</td>\n",
       "      <td>1</td>\n",
       "      <td>1</td>\n",
       "      <td>1</td>\n",
       "      <td>1</td>\n",
       "      <td>0</td>\n",
       "      <td>1</td>\n",
       "      <td>2</td>\n",
       "      <td>0</td>\n",
       "    </tr>\n",
       "    <tr>\n",
       "      <th>1</th>\n",
       "      <td>1</td>\n",
       "      <td>0</td>\n",
       "      <td>0</td>\n",
       "      <td>1</td>\n",
       "      <td>1</td>\n",
       "      <td>1</td>\n",
       "      <td>0</td>\n",
       "      <td>0</td>\n",
       "      <td>1</td>\n",
       "      <td>0</td>\n",
       "      <td>0</td>\n",
       "      <td>1</td>\n",
       "      <td>0</td>\n",
       "      <td>1</td>\n",
       "      <td>1</td>\n",
       "    </tr>\n",
       "  </tbody>\n",
       "</table>\n",
       "</div>"
      ],
      "text/plain": [
       "   key  21st  Data  for  data  learning  of  job  is  century  Science  \\\n",
       "0    0     1     1    0     0         0   1    1   1        1        1   \n",
       "1    1     0     0    1     1         1   0    0   1        0        0   \n",
       "\n",
       "   machine  sexiest  the  science  \n",
       "0        0        1    2        0  \n",
       "1        1        0    1        1  "
      ]
     },
     "execution_count": 46,
     "metadata": {},
     "output_type": "execute_result"
    }
   ],
   "source": [
    "import pandas as pd\n",
    "wordDictA = dict.fromkeys(total, 0)\n",
    "wordDictB = dict.fromkeys(total, 0)\n",
    "for word in first_sentence:\n",
    "    wordDictA[word]+=1\n",
    "for word in second_sentence:\n",
    "    wordDictB[word]+=1\n",
    "pd.DataFrame([wordDictA, wordDictB])"
   ]
  },
  {
   "cell_type": "code",
   "execution_count": 50,
   "id": "bc16a848",
   "metadata": {},
   "outputs": [
    {
     "name": "stdout",
     "output_type": "stream",
     "text": [
      "   key  21st  Data  for  data  learning   of  job   is  century  Science  \\\n",
      "0  0.0   0.0   0.0  0.0   0.0       0.0  0.0  0.0  0.0      0.0      0.0   \n",
      "1  0.0   0.0   0.0  0.0   0.0       0.0  0.0  0.0  0.0      0.0      0.0   \n",
      "\n",
      "   machine  sexiest  the  science  \n",
      "0      0.0      0.0  0.0      0.0  \n",
      "1      0.0      0.0  0.0      0.0  \n"
     ]
    }
   ],
   "source": [
    "#TF Function\n",
    "import nltk\n",
    "import pandas as pd\n",
    "def computeTF(wordDict,doc):\n",
    "    tfDict = {}\n",
    "    corpusCount = len(doc)\n",
    "    for word, count in wordDict.items():\n",
    "        tfDict[word] = count/float(corpusCount)\n",
    "    return(tfDict)\n",
    "\n",
    "#running our sentences through the tffunction:\n",
    "wordDictA = dict.fromkeys(total, 0)\n",
    "wordDictB = dict.fromkeys(total, 0)\n",
    "\n",
    "tfFirst = computeTF(wordDictA, first_sentence)\n",
    "tfSecond = computeTF(wordDictB, second_sentence)\n",
    "\n",
    "#Converting to dataframe for visualization\n",
    "tf=pd.DataFrame([tfFirst,tfSecond])\n",
    "\n",
    "print(tf)"
   ]
  },
  {
   "cell_type": "code",
   "execution_count": 51,
   "id": "3c6f7279",
   "metadata": {},
   "outputs": [
    {
     "name": "stdout",
     "output_type": "stream",
     "text": [
      "['key', '21st', 'Data', 'data', 'learning', 'job', 'century', 'Science', 'machine', 'sexiest', 'science']\n"
     ]
    },
    {
     "name": "stderr",
     "output_type": "stream",
     "text": [
      "[nltk_data] Error loading stopwords: <urlopen error [Errno 11001]\n",
      "[nltk_data]     getaddrinfo failed>\n"
     ]
    }
   ],
   "source": [
    "import nltk\n",
    "nltk.download('stopwords')\n",
    "from nltk.corpus import stopwords\n",
    "stop_words =set(stopwords.words('english'))\n",
    "\n",
    "filtered_sentence = [w for w in wordDictA if not w in stop_words]\n",
    "print(filtered_sentence)"
   ]
  },
  {
   "cell_type": "code",
   "execution_count": 52,
   "id": "f82aace1",
   "metadata": {},
   "outputs": [],
   "source": [
    "#IDF\n",
    "import math\n",
    "\n",
    "def computeIDF(docList):\n",
    "    idfDict = {}\n",
    "    N = len(docList)\n",
    "\n",
    "    idfDict = dict.fromkeys(docList[0].keys(), 0)\n",
    "    for word, val in idfDict.items():\n",
    "         idfDict[word] = math.log10(N / (float(val) + 1))\n",
    "\n",
    "    return(idfDict)#inputing our sentences in the log file\n",
    "idfs = computeIDF([wordDictA, wordDictB])"
   ]
  },
  {
   "cell_type": "code",
   "execution_count": 53,
   "id": "1c836de3",
   "metadata": {},
   "outputs": [
    {
     "name": "stdout",
     "output_type": "stream",
     "text": [
      "{'key': 0.3010299956639812, '21st': 0.3010299956639812, 'Data': 0.3010299956639812, 'for': 0.3010299956639812, 'data': 0.3010299956639812, 'learning': 0.3010299956639812, 'of': 0.3010299956639812, 'job': 0.3010299956639812, 'is': 0.3010299956639812, 'century': 0.3010299956639812, 'Science': 0.3010299956639812, 'machine': 0.3010299956639812, 'sexiest': 0.3010299956639812, 'the': 0.3010299956639812, 'science': 0.3010299956639812}\n"
     ]
    }
   ],
   "source": [
    "#IDF \n",
    "\n",
    "def computeIDF(docList):\n",
    "    idfDict = {}\n",
    "    N = len(docList)\n",
    "\n",
    "    idfDict = dict.fromkeys(docList[0].keys(), 0)\n",
    "    for word, val in idfDict.items():\n",
    "        idfDict[word] = math.log10(N / (float(val) + 1))\n",
    "\n",
    "    return(idfDict)\n",
    "        #inputing our sentences in the log file\n",
    "wordDictA = dict.fromkeys(total, 0)\n",
    "wordDictB = dict.fromkeys(total, 0)\n",
    "\n",
    "idfs = computeIDF([wordDictA, wordDictB])\n",
    "print(idfs)"
   ]
  },
  {
   "cell_type": "code",
   "execution_count": 54,
   "id": "93d25caa",
   "metadata": {},
   "outputs": [
    {
     "name": "stdout",
     "output_type": "stream",
     "text": [
      "  (0, 1)\t0.34211869506421816\n",
      "  (0, 0)\t0.34211869506421816\n",
      "  (0, 9)\t0.34211869506421816\n",
      "  (0, 5)\t0.34211869506421816\n",
      "  (0, 11)\t0.34211869506421816\n",
      "  (0, 12)\t0.48684053853849035\n",
      "  (0, 4)\t0.24342026926924518\n",
      "  (0, 10)\t0.24342026926924518\n",
      "  (0, 2)\t0.24342026926924518\n",
      "  (1, 3)\t0.40740123733358447\n",
      "  (1, 6)\t0.40740123733358447\n",
      "  (1, 7)\t0.40740123733358447\n",
      "  (1, 8)\t0.40740123733358447\n",
      "  (1, 12)\t0.28986933576883284\n",
      "  (1, 4)\t0.28986933576883284\n",
      "  (1, 10)\t0.28986933576883284\n",
      "  (1, 2)\t0.28986933576883284\n"
     ]
    }
   ],
   "source": [
    "#first step is to import the library\n",
    "\n",
    "from sklearn.feature_extraction.text import TfidfVectorizer \n",
    "#for the sentence, make sure all words are lowercase or you will run \n",
    "#into error. for simplicity, I just made the same sentence all \n",
    "#lowercase\n",
    "\n",
    "firstV= \"Data Science is the sexiest job of the 21st century\" \n",
    "\n",
    "secondV= \"machine learning is the key for data science\"\n",
    "\n",
    "#calling the TfidfVectorizer \n",
    "vectorize= TfidfVectorizer() \n",
    "\n",
    "#fitting the model and passing our sentences right away:\n",
    "response= vectorize.fit_transform([firstV, secondV])\n",
    "\n",
    "print (response)"
   ]
  },
  {
   "cell_type": "code",
   "execution_count": null,
   "id": "535c8a79",
   "metadata": {},
   "outputs": [],
   "source": []
  }
 ],
 "metadata": {
  "kernelspec": {
   "display_name": "Python 3",
   "language": "python",
   "name": "python3"
  },
  "language_info": {
   "codemirror_mode": {
    "name": "ipython",
    "version": 3
   },
   "file_extension": ".py",
   "mimetype": "text/x-python",
   "name": "python",
   "nbconvert_exporter": "python",
   "pygments_lexer": "ipython3",
   "version": "3.8.8"
  }
 },
 "nbformat": 4,
 "nbformat_minor": 5
}
