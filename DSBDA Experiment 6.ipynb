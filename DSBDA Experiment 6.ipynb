{
 "cells": [
  {
   "cell_type": "code",
   "execution_count": 1,
   "id": "35652dc4",
   "metadata": {},
   "outputs": [],
   "source": [
    "#Expt 6 \n",
    "#Data Analytics III\n",
    "\n",
    "#mporting libraries\n",
    "import numpy as np\n",
    "import matplotlib.pyplot as plt\n",
    "import pandas as pd"
   ]
  },
  {
   "cell_type": "code",
   "execution_count": 2,
   "id": "e63bb53e",
   "metadata": {},
   "outputs": [
    {
     "name": "stdout",
     "output_type": "stream",
     "text": [
      "   Id  SepalLengthCm  SepalWidthCm  PetalLengthCm  PetalWidthCm      Species\n",
      "0   1            5.1           3.5            1.4           0.2  Iris-setosa\n",
      "1   2            4.9           3.0            1.4           0.2  Iris-setosa\n",
      "2   3            4.7           3.2            1.3           0.2  Iris-setosa\n",
      "3   4            4.6           3.1            1.5           0.2  Iris-setosa\n",
      "4   5            5.0           3.6            1.4           0.2  Iris-setosa\n"
     ]
    }
   ],
   "source": [
    "#import the dataset\n",
    "\n",
    "dataset = pd.read_csv('D:\\Sem 6\\DSBDA Pract\\Iris.csv')\n",
    "X=dataset.iloc[:,:4].values \n",
    "y=dataset['Species'].values \n",
    "print(dataset.head(5))"
   ]
  },
  {
   "cell_type": "code",
   "execution_count": 3,
   "id": "5d2129c9",
   "metadata": {},
   "outputs": [
    {
     "name": "stderr",
     "output_type": "stream",
     "text": [
      "C:\\Users\\bhale\\Downloads\\anaconda\\lib\\site-packages\\scipy\\__init__.py:138: UserWarning: A NumPy version >=1.16.5 and <1.23.0 is required for this version of SciPy (detected version 1.23.0)\n",
      "  warnings.warn(f\"A NumPy version >={np_minversion} and <{np_maxversion} is required for this version of \"\n"
     ]
    }
   ],
   "source": [
    "#Splitting the dataset into Training set and Test Set \n",
    "\n",
    "from sklearn.model_selection import train_test_split \n",
    "X_train, X_test, y_train, y_test =train_test_split(X,y,test_size = 0.2)"
   ]
  },
  {
   "cell_type": "code",
   "execution_count": 4,
   "id": "c164d77d",
   "metadata": {},
   "outputs": [],
   "source": [
    "#Feature Scaling\n",
    "\n",
    "from sklearn.preprocessing import StandardScaler \n",
    "sc = StandardScaler() \n",
    "X_train=sc.fit_transform(X_train) \n",
    "X_test=sc.transform(X_test)\n"
   ]
  },
  {
   "cell_type": "code",
   "execution_count": 5,
   "id": "d30abf66",
   "metadata": {},
   "outputs": [
    {
     "data": {
      "text/plain": [
       "GaussianNB()"
      ]
     },
     "execution_count": 5,
     "metadata": {},
     "output_type": "execute_result"
    }
   ],
   "source": [
    "#Training the Naive Bayes Classification model on the Training Set\n",
    "\n",
    "from sklearn.naive_bayes import GaussianNB\n",
    "classifier=GaussianNB() \n",
    "classifier.fit(X_train, y_train)"
   ]
  },
  {
   "cell_type": "code",
   "execution_count": 6,
   "id": "d68c5d98",
   "metadata": {},
   "outputs": [
    {
     "name": "stdout",
     "output_type": "stream",
     "text": [
      "['Iris-setosa' 'Iris-setosa' 'Iris-virginica' 'Iris-versicolor'\n",
      " 'Iris-virginica' 'Iris-virginica' 'Iris-setosa' 'Iris-virginica'\n",
      " 'Iris-virginica' 'Iris-setosa' 'Iris-virginica' 'Iris-virginica'\n",
      " 'Iris-virginica' 'Iris-virginica' 'Iris-virginica' 'Iris-setosa'\n",
      " 'Iris-setosa' 'Iris-setosa' 'Iris-setosa' 'Iris-setosa' 'Iris-setosa'\n",
      " 'Iris-setosa' 'Iris-virginica' 'Iris-virginica' 'Iris-versicolor'\n",
      " 'Iris-setosa' 'Iris-virginica' 'Iris-setosa' 'Iris-virginica'\n",
      " 'Iris-virginica']\n"
     ]
    }
   ],
   "source": [
    "#Predicting the Test set results\n",
    "\n",
    "y_pred = classifier.predict(X_test)\n",
    "\n",
    "print(y_pred)\n"
   ]
  },
  {
   "cell_type": "code",
   "execution_count": 7,
   "id": "6b9e8b75",
   "metadata": {},
   "outputs": [
    {
     "name": "stdout",
     "output_type": "stream",
     "text": [
      "Accuracy :  1.0\n",
      "[[13  0  0]\n",
      " [ 0  2  0]\n",
      " [ 0  0 15]]\n"
     ]
    }
   ],
   "source": [
    "#Confusion Matrix and Accuracy\n",
    "\n",
    "from sklearn.metrics import confusion_matrix \n",
    "cm = confusion_matrix(y_test, y_pred) \n",
    "from sklearn.metrics import accuracy_score \n",
    "print(\"Accuracy : \", accuracy_score(y_test,y_pred)) \n",
    "print(cm)\n"
   ]
  },
  {
   "cell_type": "code",
   "execution_count": 8,
   "id": "9b5c1f19",
   "metadata": {},
   "outputs": [
    {
     "name": "stdout",
     "output_type": "stream",
     "text": [
      "        Real Values Predicted Values\n",
      "0       Iris-setosa      Iris-setosa\n",
      "1       Iris-setosa      Iris-setosa\n",
      "2    Iris-virginica   Iris-virginica\n",
      "3   Iris-versicolor  Iris-versicolor\n",
      "4    Iris-virginica   Iris-virginica\n",
      "5    Iris-virginica   Iris-virginica\n",
      "6       Iris-setosa      Iris-setosa\n",
      "7    Iris-virginica   Iris-virginica\n",
      "8    Iris-virginica   Iris-virginica\n",
      "9       Iris-setosa      Iris-setosa\n",
      "10   Iris-virginica   Iris-virginica\n",
      "11   Iris-virginica   Iris-virginica\n",
      "12   Iris-virginica   Iris-virginica\n",
      "13   Iris-virginica   Iris-virginica\n",
      "14   Iris-virginica   Iris-virginica\n",
      "15      Iris-setosa      Iris-setosa\n",
      "16      Iris-setosa      Iris-setosa\n",
      "17      Iris-setosa      Iris-setosa\n",
      "18      Iris-setosa      Iris-setosa\n",
      "19      Iris-setosa      Iris-setosa\n",
      "20      Iris-setosa      Iris-setosa\n",
      "21      Iris-setosa      Iris-setosa\n",
      "22   Iris-virginica   Iris-virginica\n",
      "23   Iris-virginica   Iris-virginica\n",
      "24  Iris-versicolor  Iris-versicolor\n",
      "25      Iris-setosa      Iris-setosa\n",
      "26   Iris-virginica   Iris-virginica\n",
      "27      Iris-setosa      Iris-setosa\n",
      "28   Iris-virginica   Iris-virginica\n",
      "29   Iris-virginica   Iris-virginica\n"
     ]
    }
   ],
   "source": [
    "#Comparing the Real Values with Predicted Values\n",
    "\n",
    "df = pd.DataFrame({'Real Values':y_test, 'Predicted Values':y_pred})\n",
    "print(df)"
   ]
  },
  {
   "cell_type": "code",
   "execution_count": 9,
   "id": "1edba4e2",
   "metadata": {},
   "outputs": [],
   "source": [
    "#Compute Error rate, Precision and Recall\n",
    "\n",
    "from sklearn.metrics import precision_score, recall_score, accuracy_score "
   ]
  },
  {
   "cell_type": "raw",
   "id": "6b10d3df",
   "metadata": {},
   "source": [
    "Error rate\n",
    "m=accuracy_score(y_test, y_pred) \n",
    "print(\"error rate:-\",1-m)"
   ]
  },
  {
   "cell_type": "code",
   "execution_count": 10,
   "id": "387a5ec9",
   "metadata": {},
   "outputs": [
    {
     "name": "stdout",
     "output_type": "stream",
     "text": [
      "Precision: 1.0\n"
     ]
    }
   ],
   "source": [
    "#Precision Score\n",
    "\n",
    "print('Precision:',precision_score(y_test,y_pred,average='micro'))"
   ]
  },
  {
   "cell_type": "code",
   "execution_count": 11,
   "id": "0d4a6bd8",
   "metadata": {},
   "outputs": [
    {
     "name": "stdout",
     "output_type": "stream",
     "text": [
      "Recall Score: 1.0\n"
     ]
    }
   ],
   "source": [
    "#Recall Score\n",
    "\n",
    "print(\"Recall Score:\",recall_score(y_test,y_pred,average='micro'))"
   ]
  }
 ],
 "metadata": {
  "kernelspec": {
   "display_name": "Python 3",
   "language": "python",
   "name": "python3"
  },
  "language_info": {
   "codemirror_mode": {
    "name": "ipython",
    "version": 3
   },
   "file_extension": ".py",
   "mimetype": "text/x-python",
   "name": "python",
   "nbconvert_exporter": "python",
   "pygments_lexer": "ipython3",
   "version": "3.8.8"
  }
 },
 "nbformat": 4,
 "nbformat_minor": 5
}
